{
 "cells": [
  {
   "cell_type": "markdown",
   "metadata": {
    "id": "4CurZTD84YSe"
   },
   "source": [
    "<center><br><font size=10>Python for ML - HW_1</font><br>\n",
    "<b>Introduction to Machine Learning</b>\n",
    "<br><br>\n",
    "<b>Author</b>: Ilan Vasilevsky - ilanv@mail.tau.ac.il\n",
    "<br><i>Spring 2022</i></center>"
   ]
  },
  {
   "cell_type": "markdown",
   "metadata": {
    "id": "YddL5PwJV5T-"
   },
   "source": [
    "# Numpy\n",
    "\n",
    "<img src=\"https://numpy.org/images/logo.svg\" width=100>"
   ]
  },
  {
   "cell_type": "markdown",
   "metadata": {
    "id": "901B4PXu9ztx"
   },
   "source": [
    "## Instructions\n",
    "1. Write all code within the functions\n",
    "2. Make sure to **return** the solution in every function\n",
    "3. Don't be afraid to search the internet for help"
   ]
  },
  {
   "cell_type": "markdown",
   "metadata": {
    "id": "HfVXaVp54tsO"
   },
   "source": [
    "**Import Libraries**"
   ]
  },
  {
   "cell_type": "code",
   "execution_count": 1,
   "metadata": {
    "executionInfo": {
     "elapsed": 3,
     "status": "ok",
     "timestamp": 1636820128810,
     "user": {
      "displayName": "Ilan Vasilevsky",
      "photoUrl": "https://lh3.googleusercontent.com/a-/AOh14GguyxPxQM0_RGlxWIPJAwj0FMVfxWgPlwWl0QT3=s64",
      "userId": "01351641955183714281"
     },
     "user_tz": -120
    },
    "id": "9mpxV3Bn4tHX"
   },
   "outputs": [],
   "source": [
    "import numpy as np"
   ]
  },
  {
   "cell_type": "markdown",
   "metadata": {
    "id": "lb-KbeUR4_3_"
   },
   "source": [
    "## 1. Repeat question 1 from the hand-written exercise in code"
   ]
  },
  {
   "cell_type": "markdown",
   "metadata": {
    "id": "D7tSDwRU7XsK"
   },
   "source": [
    "### 1. prep) Create the matrix X that was given in the exercise <br> \n",
    "\n",
    "$X = \\begin{pmatrix}\n",
    "1 & 2 & 0\\\\\n",
    "0 & 1 & 0\\\\\n",
    "-1 & -1 & 1\\\\\n",
    "2 & 0 & 1\\\\\n",
    "\\end{pmatrix}$\n",
    "<br><br>\n",
    "Complete the function `create_x()`. <br>\n",
    "The function should return a 2-dimentional numpy array (matrix)"
   ]
  },
  {
   "cell_type": "code",
   "execution_count": 2,
   "metadata": {
    "executionInfo": {
     "elapsed": 3,
     "status": "ok",
     "timestamp": 1636820128810,
     "user": {
      "displayName": "Ilan Vasilevsky",
      "photoUrl": "https://lh3.googleusercontent.com/a-/AOh14GguyxPxQM0_RGlxWIPJAwj0FMVfxWgPlwWl0QT3=s64",
      "userId": "01351641955183714281"
     },
     "user_tz": -120
    },
    "id": "1mf1m5BI8ayp"
   },
   "outputs": [],
   "source": [
    "def create_x():\n",
    "  return np.array([[1,2,0],[0,1,0],[-1,-1,1],[2,0,1]])"
   ]
  },
  {
   "cell_type": "markdown",
   "metadata": {
    "id": "r6rT1FNJ-Fxa"
   },
   "source": [
    "### 1. a) Calculate $||X_{2}||_{2}$ and $||X_{2}||_{2}^2$\n"
   ]
  },
  {
   "cell_type": "markdown",
   "metadata": {
    "id": "D537KCJuAWek"
   },
   "source": [
    "Complete the function `calc_norms(X)` where X is the input matrix.<br><br> The function should return a dictionary containing the values:<br>\n",
    "* norm_x2 = $||X_{2}||_{2}$<br>\n",
    "* norm_x2_squared = $||X_{2}||_{2}^2$"
   ]
  },
  {
   "cell_type": "code",
   "execution_count": 3,
   "metadata": {
    "executionInfo": {
     "elapsed": 269,
     "status": "ok",
     "timestamp": 1636820432831,
     "user": {
      "displayName": "Ilan Vasilevsky",
      "photoUrl": "https://lh3.googleusercontent.com/a-/AOh14GguyxPxQM0_RGlxWIPJAwj0FMVfxWgPlwWl0QT3=s64",
      "userId": "01351641955183714281"
     },
     "user_tz": -120
    },
    "id": "hRqvsXI6_pg0"
   },
   "outputs": [],
   "source": [
    "def calc_norms(X):\n",
    "  norm_x2=np.linalg.norm(X[2,:])\n",
    "  return {'norm_x2':norm_x2,'norm_x2_squared':norm_x2**2}"
   ]
  },
  {
   "cell_type": "markdown",
   "metadata": {
    "id": "g9RvjD0LBi7P"
   },
   "source": [
    "Test your solution"
   ]
  },
  {
   "cell_type": "code",
   "execution_count": 4,
   "metadata": {
    "colab": {
     "base_uri": "https://localhost:8080/"
    },
    "executionInfo": {
     "elapsed": 263,
     "status": "ok",
     "timestamp": 1636820435659,
     "user": {
      "displayName": "Ilan Vasilevsky",
      "photoUrl": "https://lh3.googleusercontent.com/a-/AOh14GguyxPxQM0_RGlxWIPJAwj0FMVfxWgPlwWl0QT3=s64",
      "userId": "01351641955183714281"
     },
     "user_tz": -120
    },
    "id": "YQ4rX4bKBd1S",
    "outputId": "00524fc5-89eb-4abe-a951-44240ce1bcd8"
   },
   "outputs": [
    {
     "name": "stdout",
     "output_type": "stream",
     "text": [
      "{'norm_x2': 1.7320508075688772, 'norm_x2_squared': 2.9999999999999996}\n"
     ]
    }
   ],
   "source": [
    "X = create_x()\n",
    "print(calc_norms(X))"
   ]
  },
  {
   "cell_type": "markdown",
   "metadata": {
    "id": "rI9LEdGLgOFs"
   },
   "source": [
    "### 1. f+g+h) Correlation Matrix \n",
    "Calculate the correlation matrix C, Then calculate the determinant and the inverse of C <br><br>\n",
    "Reminder : <br>\n",
    "f) $C=X^TX$ <br>\n",
    "g) $det(C) = det(X^TX)$ <br>\n",
    "h) inverse matrix : $C^{-1} = (X^TX)^-1 $ \n",
    "  <br><br>\n",
    "Complete the function `corr_mat_atts(X)` where X is the input matrix.<br>\n",
    "The function should return a **dictionary** containing the values:<br>\n",
    "* C = Correlation matrix\n",
    "* C_det = Determinant of C\n",
    "* C_inv = inverse of C"
   ]
  },
  {
   "cell_type": "code",
   "execution_count": 5,
   "metadata": {
    "executionInfo": {
     "elapsed": 274,
     "status": "ok",
     "timestamp": 1636821366320,
     "user": {
      "displayName": "Ilan Vasilevsky",
      "photoUrl": "https://lh3.googleusercontent.com/a-/AOh14GguyxPxQM0_RGlxWIPJAwj0FMVfxWgPlwWl0QT3=s64",
      "userId": "01351641955183714281"
     },
     "user_tz": -120
    },
    "id": "j9WAYKRjgZ-9"
   },
   "outputs": [],
   "source": [
    "def corr_mat_atts(X):\n",
    "  correlation_matrix=np.matmul(np.transpose(X),X)\n",
    "  return {'C':correlation_matrix,'C_det':np.linalg.det(correlation_matrix),'C_inv':np.linalg.inv(correlation_matrix)} "
   ]
  },
  {
   "cell_type": "code",
   "execution_count": 6,
   "metadata": {
    "colab": {
     "base_uri": "https://localhost:8080/"
    },
    "executionInfo": {
     "elapsed": 3,
     "status": "ok",
     "timestamp": 1636821367380,
     "user": {
      "displayName": "Ilan Vasilevsky",
      "photoUrl": "https://lh3.googleusercontent.com/a-/AOh14GguyxPxQM0_RGlxWIPJAwj0FMVfxWgPlwWl0QT3=s64",
      "userId": "01351641955183714281"
     },
     "user_tz": -120
    },
    "id": "PKx1IAhgglgN",
    "outputId": "5373eec0-2fcc-4d65-c245-3f8ee38a57de"
   },
   "outputs": [
    {
     "name": "stdout",
     "output_type": "stream",
     "text": [
      "C: \n",
      "[[ 6  3  1]\n",
      " [ 3  6 -1]\n",
      " [ 1 -1  2]]\n",
      "\n",
      "det(C) = 36.0\n",
      "\n",
      " C^-1: \n",
      "[[ 0.30555556 -0.19444444 -0.25      ]\n",
      " [-0.19444444  0.30555556  0.25      ]\n",
      " [-0.25        0.25        0.75      ]]\n"
     ]
    }
   ],
   "source": [
    "#Test your solution\n",
    "C_atts = corr_mat_atts(X)\n",
    "C = C_atts['C']\n",
    "detC = C_atts['C_det']\n",
    "invC = C_atts['C_inv']\n",
    "print(f'C: \\n{C}\\n')\n",
    "print(f\"det(C) = {detC}\")\n",
    "print(f\"\\n C^-1: \\n{invC}\")"
   ]
  },
  {
   "cell_type": "markdown",
   "metadata": {
    "id": "d-_gruoEj73u"
   },
   "source": [
    "## 2. Given a scalar and an 1d array, find the closest value to this scalar\n",
    "Complete the function `closest_val(v,s)` , where v is an array and s is a scalar. The function should return the closest value to s, that is in array v. <br><br>\n",
    "for example, given the input: v = [1,3,9] ; s=14 <br>\n",
    "the function should return 9"
   ]
  },
  {
   "cell_type": "code",
   "execution_count": 7,
   "metadata": {
    "id": "wqaQTkuAlFzE"
   },
   "outputs": [],
   "source": [
    "#v is the 1-d array (vector) and \n",
    "def closest_val(v,s):\n",
    "  return v[np.argmin(np.abs(v-s))]"
   ]
  },
  {
   "cell_type": "code",
   "execution_count": 8,
   "metadata": {
    "colab": {
     "base_uri": "https://localhost:8080/"
    },
    "executionInfo": {
     "elapsed": 422,
     "status": "ok",
     "timestamp": 1635251733494,
     "user": {
      "displayName": "Ilan Vasilevsky",
      "photoUrl": "https://lh3.googleusercontent.com/a-/AOh14GguyxPxQM0_RGlxWIPJAwj0FMVfxWgPlwWl0QT3=s64",
      "userId": "01351641955183714281"
     },
     "user_tz": -180
    },
    "id": "8XPebogImFgC",
    "outputId": "153b4546-113e-4068-8a94-5943de67bcfb"
   },
   "outputs": [
    {
     "name": "stdout",
     "output_type": "stream",
     "text": [
      "7\n"
     ]
    }
   ],
   "source": [
    "#Test your code\n",
    "v = np.array([10,14,2,7])\n",
    "s = 6\n",
    "print(closest_val(v,s))"
   ]
  },
  {
   "cell_type": "markdown",
   "metadata": {
    "id": "GV7JLrYamgxV"
   },
   "source": [
    "## 3. Thresholding\n",
    "Given a matrix `M` and a scalar threshold `thresh`, the function should return a new matrix with same dimensions as `M`, that contains:\n",
    "\n",
    "-   1 where values is equal or above threshold\n",
    "-   0 where values are below threshold\n",
    "\n",
    "for example `thresh=3`, \n",
    "$M=\\begin{pmatrix}\n",
    "1 & 2 & 9\\\\\n",
    "-1 & 4 & 0\\\\\n",
    "\\end{pmatrix}$\n",
    "<br>\n",
    "output will be:<br>\n",
    "$Out=\\begin{pmatrix}\n",
    "0 & 0 & 1\\\\\n",
    "0 & 1 & 0\\\\\n",
    "\\end{pmatrix}$\n",
    "<br><br>\n",
    "Hint: be cautious not to overwrite the original M matrix"
   ]
  },
  {
   "cell_type": "code",
   "execution_count": 9,
   "metadata": {
    "id": "QB4FR51go4CV"
   },
   "outputs": [],
   "source": [
    "def thresh_func(M,thresh):\n",
    "  return np.where(M>=thresh,1,0)"
   ]
  },
  {
   "cell_type": "code",
   "execution_count": 10,
   "metadata": {
    "colab": {
     "base_uri": "https://localhost:8080/"
    },
    "executionInfo": {
     "elapsed": 405,
     "status": "ok",
     "timestamp": 1635252853354,
     "user": {
      "displayName": "Ilan Vasilevsky",
      "photoUrl": "https://lh3.googleusercontent.com/a-/AOh14GguyxPxQM0_RGlxWIPJAwj0FMVfxWgPlwWl0QT3=s64",
      "userId": "01351641955183714281"
     },
     "user_tz": -180
    },
    "id": "BD2mVyoGplz1",
    "outputId": "8db540f8-9302-465e-bd97-db9a39d197ad"
   },
   "outputs": [
    {
     "name": "stdout",
     "output_type": "stream",
     "text": [
      "[[0 0 1]\n",
      " [0 1 0]]\n"
     ]
    }
   ],
   "source": [
    "#Test your code\n",
    "M = np.array([[1,2,9],[-1,4,0]])\n",
    "print(thresh_func(M,3))"
   ]
  },
  {
   "cell_type": "markdown",
   "metadata": {},
   "source": [
    "## 4. Grade Checking\n",
    "For a given matrix M, where each row index is a student and columns indexes are exercises:<br>\n",
    "calculate for the first **n** students and range of execrcises  [**a**,**b**] (b>a): <br> \n",
    "* Average score for each exercise\n",
    "* std for each exercise\n",
    "* Minimal score of each **Student**\n",
    "<br><br>\n",
    "Example of input:\n",
    "$M=\\begin{pmatrix}\n",
    "100 & 82 & 91\\\\\n",
    "95 & 73 & 62\\\\\n",
    "97 & 84 & 78\\\\\n",
    "100 & 91 & 86\\\\\n",
    "\\end{pmatrix}$\n",
    "<br>\n",
    "In this matrix there are 4 students (rows) and 3 exercises (columns). <br>\n",
    "The i,j element of the function is the grade of exercise j for student i<br>\n",
    "for example, $M_{1,2} = 62$ : That means that student 1 got a grade of 62 for exercise 2\n",
    "<br><br>\n",
    "Example of the corresponding output:<br>\n"
   ]
  },
  {
   "cell_type": "markdown",
   "metadata": {},
   "source": [
    "### Instructions\n",
    "Complete the function `calc_grade_atts(grades,n,a,b)` Where: <br>\n",
    "**grades** - input matrix (same as M mentioned before) <br>\n",
    "**n** - first number of students to include in the calculation <br>\n",
    "**a,b** - range of exercises to include in the calculation (b should be greater than a)<br>\n",
    "<br><br>\n",
    "The function should return a dictionary that contains the following:\n",
    "- avg_ex - average grade of each exercise in relevant data\n",
    "- std_ex - standart deviation of each exercise in relevant data\n",
    "- min_grade - minimal grade for each student in relevant data"
   ]
  },
  {
   "cell_type": "markdown",
   "metadata": {},
   "source": [
    "\n",
    "relevant data - first n students and exercises in range [a,b]\n",
    "<br><br>\n",
    "Assume the input is valid"
   ]
  },
  {
   "cell_type": "code",
   "execution_count": 11,
   "metadata": {},
   "outputs": [],
   "source": [
    "def calc_grade_atts(grades,n,a,b):\n",
    "    relevent_data=grades[:n,a:b+1]\n",
    "    return {'avg_ex':np.mean(relevent_data,axis=0), 'std_ex':np.std(relevent_data,axis=0), 'min_grade':np.min(relevent_data,axis=1)}"
   ]
  },
  {
   "cell_type": "code",
   "execution_count": 12,
   "metadata": {},
   "outputs": [
    {
     "name": "stdout",
     "output_type": "stream",
     "text": [
      "{'avg_ex': array([98.  , 82.5 , 79.25]), 'std_ex': array([ 2.12132034,  6.42261629, 10.98578627]), 'min_grade': array([82, 62, 78, 86])}\n"
     ]
    }
   ],
   "source": [
    "#Test your solution\n",
    "M = np.array([[100,82,91],[95,73,62],[97,84,78],[100,91,86]])\n",
    "n_students = M.shape[0]\n",
    "n_ex = M.shape[1]\n",
    "print(calc_grade_atts(M,n_students,0,n_ex) )#analyze the full input matrix"
   ]
  },
  {
   "cell_type": "markdown",
   "metadata": {},
   "source": [
    "***"
   ]
  },
  {
   "cell_type": "markdown",
   "metadata": {
    "id": "d9HNbdSzqoJa"
   },
   "source": [
    "# Pandas\n"
   ]
  },
  {
   "cell_type": "markdown",
   "metadata": {
    "id": "H3n3JiUei2KU"
   },
   "source": [
    "<img src=\"https://pandas.pydata.org/static/img/pandas_white.svg\" width=300>\n",
    "<img src=\"https://m.media-amazon.com/images/G/01/IMDb/BG_rectangle._CB1509060989_SY230_SX307_AL_.png\" width=200>"
   ]
  },
  {
   "cell_type": "markdown",
   "metadata": {
    "id": "kkr_JF4Si2KU"
   },
   "source": [
    "**Import Libraries** :\n",
    "- Numpy as np\n",
    "- Pandas as pd"
   ]
  },
  {
   "cell_type": "code",
   "execution_count": 13,
   "metadata": {
    "id": "qKmgiJ_Ui2KW"
   },
   "outputs": [],
   "source": [
    "import numpy as np\n",
    "import pandas as pd"
   ]
  },
  {
   "cell_type": "markdown",
   "metadata": {
    "id": "n6bFVF4Ji2KV"
   },
   "source": [
    "**Load IMDB data set** to **Dataframe** named df<br><br>\n",
    "\n",
    "> path should be 'IMDB-Movie-Data.csv' if file in the same folder as notebook or 'C:\\\\\\PATH\\\\\\TO\\\\\\IMDB-Movie-Data.csv' if not (note we must use double backslashes on windows to distinguish from backslash of special chars like \\\\n) "
   ]
  },
  {
   "cell_type": "code",
   "execution_count": 14,
   "metadata": {
    "id": "K0cOlvXsi2KW"
   },
   "outputs": [],
   "source": [
    "df=pd.read_csv('IMDB-Movie-Data.csv')"
   ]
  },
  {
   "cell_type": "markdown",
   "metadata": {
    "id": "4F-jACg_4kkT"
   },
   "source": [
    "## 0. Clean Up"
   ]
  },
  {
   "cell_type": "markdown",
   "metadata": {
    "id": "ckf9dN-Mi2KW"
   },
   "source": [
    "**Change columns name** :\n",
    "- 'Runtime (Minutes)' to  'Runtime_minutes' \n",
    "- 'Revenue (Millions)' to 'Revenue_in_millions'"
   ]
  },
  {
   "cell_type": "code",
   "execution_count": 15,
   "metadata": {
    "id": "SrvxGPketEyx"
   },
   "outputs": [],
   "source": [
    "df.rename(columns={'Runtime (Minutes)':'Runtime_minutes','Revenue (Millions)':'Revenue_in_millions'},inplace=True)"
   ]
  },
  {
   "cell_type": "markdown",
   "metadata": {
    "id": "Hy1v8GMDi2KX"
   },
   "source": [
    "**Convert all column names to lower case**\n",
    "\n",
    "for example :\n",
    "column 'Runtime' to 'runtime'"
   ]
  },
  {
   "cell_type": "code",
   "execution_count": 16,
   "metadata": {
    "id": "t9qHcyR-i2KX"
   },
   "outputs": [],
   "source": [
    "\n",
    "df.columns=[col.lower() for col in df]\n"
   ]
  },
  {
   "cell_type": "markdown",
   "metadata": {
    "id": "aMIsru_Ii2KX"
   },
   "source": [
    "### 1. For the Artistic Value Of It\n",
    "Find all movies that were **released between 2012 and 2014**, have a **rating above 7.8**, but made **below the median revenue.**<br>\n",
    "Show **top 4 by number of votes**. <br> \n",
    "\n",
    "Suggestion: use `df.sort_values`"
   ]
  },
  {
   "cell_type": "code",
   "execution_count": 17,
   "metadata": {
    "id": "smP6WJIFq5rv"
   },
   "outputs": [
    {
     "data": {
      "text/html": [
       "<div>\n",
       "<style scoped>\n",
       "    .dataframe tbody tr th:only-of-type {\n",
       "        vertical-align: middle;\n",
       "    }\n",
       "\n",
       "    .dataframe tbody tr th {\n",
       "        vertical-align: top;\n",
       "    }\n",
       "\n",
       "    .dataframe thead th {\n",
       "        text-align: right;\n",
       "    }\n",
       "</style>\n",
       "<table border=\"1\" class=\"dataframe\">\n",
       "  <thead>\n",
       "    <tr style=\"text-align: right;\">\n",
       "      <th></th>\n",
       "      <th>id</th>\n",
       "      <th>title</th>\n",
       "      <th>genre</th>\n",
       "      <th>description</th>\n",
       "      <th>director</th>\n",
       "      <th>actors</th>\n",
       "      <th>year</th>\n",
       "      <th>runtime_minutes</th>\n",
       "      <th>rating</th>\n",
       "      <th>votes</th>\n",
       "      <th>revenue_in_millions</th>\n",
       "      <th>metascore</th>\n",
       "    </tr>\n",
       "  </thead>\n",
       "  <tbody>\n",
       "    <tr>\n",
       "      <th>133</th>\n",
       "      <td>55309</td>\n",
       "      <td>Whiplash</td>\n",
       "      <td>Drama,Music</td>\n",
       "      <td>A promising young drummer enrolls at a cut-thr...</td>\n",
       "      <td>Damien Chazelle</td>\n",
       "      <td>Miles Teller, J.K. Simmons, Melissa Benoist, P...</td>\n",
       "      <td>2014</td>\n",
       "      <td>107</td>\n",
       "      <td>8.5</td>\n",
       "      <td>477276</td>\n",
       "      <td>13.09</td>\n",
       "      <td>88.0</td>\n",
       "    </tr>\n",
       "    <tr>\n",
       "      <th>173</th>\n",
       "      <td>88261</td>\n",
       "      <td>Her</td>\n",
       "      <td>Drama,Romance,Sci-Fi</td>\n",
       "      <td>A lonely writer develops an unlikely relations...</td>\n",
       "      <td>Spike Jonze</td>\n",
       "      <td>Joaquin Phoenix, Amy Adams, Scarlett Johansson...</td>\n",
       "      <td>2013</td>\n",
       "      <td>126</td>\n",
       "      <td>8.0</td>\n",
       "      <td>390531</td>\n",
       "      <td>25.56</td>\n",
       "      <td>90.0</td>\n",
       "    </tr>\n",
       "    <tr>\n",
       "      <th>235</th>\n",
       "      <td>85035</td>\n",
       "      <td>The Perks of Being a Wallflower</td>\n",
       "      <td>Drama,Romance</td>\n",
       "      <td>An introvert freshman is taken under the wings...</td>\n",
       "      <td>Stephen Chbosky</td>\n",
       "      <td>Logan Lerman, Emma Watson, Ezra Miller, Paul Rudd</td>\n",
       "      <td>2012</td>\n",
       "      <td>102</td>\n",
       "      <td>8.0</td>\n",
       "      <td>377336</td>\n",
       "      <td>17.74</td>\n",
       "      <td>67.0</td>\n",
       "    </tr>\n",
       "    <tr>\n",
       "      <th>332</th>\n",
       "      <td>21320</td>\n",
       "      <td>Dallas Buyers Club</td>\n",
       "      <td>Biography,Drama</td>\n",
       "      <td>In 1985 Dallas, electrician and hustler Ron Wo...</td>\n",
       "      <td>Jean-Marc Vallée</td>\n",
       "      <td>Matthew McConaughey, Jennifer Garner, Jared Le...</td>\n",
       "      <td>2013</td>\n",
       "      <td>117</td>\n",
       "      <td>8.0</td>\n",
       "      <td>352801</td>\n",
       "      <td>27.30</td>\n",
       "      <td>84.0</td>\n",
       "    </tr>\n",
       "  </tbody>\n",
       "</table>\n",
       "</div>"
      ],
      "text/plain": [
       "        id                            title                 genre  \\\n",
       "133  55309                         Whiplash           Drama,Music   \n",
       "173  88261                              Her  Drama,Romance,Sci-Fi   \n",
       "235  85035  The Perks of Being a Wallflower         Drama,Romance   \n",
       "332  21320               Dallas Buyers Club       Biography,Drama   \n",
       "\n",
       "                                           description          director  \\\n",
       "133  A promising young drummer enrolls at a cut-thr...   Damien Chazelle   \n",
       "173  A lonely writer develops an unlikely relations...       Spike Jonze   \n",
       "235  An introvert freshman is taken under the wings...   Stephen Chbosky   \n",
       "332  In 1985 Dallas, electrician and hustler Ron Wo...  Jean-Marc Vallée   \n",
       "\n",
       "                                                actors  year  runtime_minutes  \\\n",
       "133  Miles Teller, J.K. Simmons, Melissa Benoist, P...  2014              107   \n",
       "173  Joaquin Phoenix, Amy Adams, Scarlett Johansson...  2013              126   \n",
       "235  Logan Lerman, Emma Watson, Ezra Miller, Paul Rudd  2012              102   \n",
       "332  Matthew McConaughey, Jennifer Garner, Jared Le...  2013              117   \n",
       "\n",
       "     rating   votes  revenue_in_millions  metascore  \n",
       "133     8.5  477276                13.09       88.0  \n",
       "173     8.0  390531                25.56       90.0  \n",
       "235     8.0  377336                17.74       67.0  \n",
       "332     8.0  352801                27.30       84.0  "
      ]
     },
     "execution_count": 17,
     "metadata": {},
     "output_type": "execute_result"
    }
   ],
   "source": [
    "med=df['revenue_in_millions'].median()\n",
    "cond_1=df['year']<=2014 \n",
    "cond_2=df['year']>=2012\n",
    "cond_3=df['rating']>7.8\n",
    "cond_4=df['revenue_in_millions']<med\n",
    "df.loc[cond_1 & cond_2 & cond_3 & cond_4].sort_values(by='votes',ascending=False).head(4)\n",
    "\n",
    "\n"
   ]
  },
  {
   "cell_type": "markdown",
   "metadata": {
    "id": "tjAy-Cy5ZABK"
   },
   "source": [
    "### 2. Meta-metascore\n",
    "Create a new rating feature that takes both the [rating](https://help.imdb.com/article/imdb/track-movies-tv/ratings-faq/G67Y87TFYYP6TWAV#calculate) and the [metascore](https://www.metacritic.com/about-metascores).<br>\n",
    "\n",
    "1. Ignore movies with not many raters: <br>Change `rating` and `metascore` of movies with below 100,000 votes to NaN.\n",
    "2. Normalize each of the rating columns (\"rating\" and \"metascore\") to be between 0 to 1.\n",
    "3. Create a new feature (new column), called \"mixed_rating\" to be the multiplication of the two normalized columns:\n",
    "    <br>a. By using simple Arithmetic Operation.\n",
    "    <br>b. By using the `apply` function.\n",
    "4. Show top 5 movies with highest \"mixed_rating\" (show all table columns)"
   ]
  },
  {
   "cell_type": "code",
   "execution_count": 39,
   "metadata": {
    "colab": {
     "base_uri": "https://localhost:8080/",
     "height": 309
    },
    "executionInfo": {
     "elapsed": 579,
     "status": "ok",
     "timestamp": 1614018336834,
     "user": {
      "displayName": "shahaf goren",
      "photoUrl": "",
      "userId": "10396340241877551029"
     },
     "user_tz": -120
    },
    "id": "E3OzO-6tZABK",
    "outputId": "1e30299e-80ff-4e26-89d2-a6b7ecca3b20",
    "scrolled": true
   },
   "outputs": [
    {
     "data": {
      "text/html": [
       "<div>\n",
       "<style scoped>\n",
       "    .dataframe tbody tr th:only-of-type {\n",
       "        vertical-align: middle;\n",
       "    }\n",
       "\n",
       "    .dataframe tbody tr th {\n",
       "        vertical-align: top;\n",
       "    }\n",
       "\n",
       "    .dataframe thead th {\n",
       "        text-align: right;\n",
       "    }\n",
       "</style>\n",
       "<table border=\"1\" class=\"dataframe\">\n",
       "  <thead>\n",
       "    <tr style=\"text-align: right;\">\n",
       "      <th></th>\n",
       "      <th>id</th>\n",
       "      <th>title</th>\n",
       "      <th>genre</th>\n",
       "      <th>description</th>\n",
       "      <th>director</th>\n",
       "      <th>actors</th>\n",
       "      <th>year</th>\n",
       "      <th>runtime_minutes</th>\n",
       "      <th>rating</th>\n",
       "      <th>votes</th>\n",
       "      <th>revenue_in_millions</th>\n",
       "      <th>metascore</th>\n",
       "      <th>mixed_rating</th>\n",
       "      <th>mixing_rating</th>\n",
       "    </tr>\n",
       "  </thead>\n",
       "  <tbody>\n",
       "    <tr>\n",
       "      <th>230</th>\n",
       "      <td>25701</td>\n",
       "      <td>Pan's Labyrinth</td>\n",
       "      <td>Drama,Fantasy,War</td>\n",
       "      <td>In the falangist Spain of 1944, the bookish yo...</td>\n",
       "      <td>Guillermo del Toro</td>\n",
       "      <td>Ivana Baquero, Ariadna Gil, Sergi López,Maribe...</td>\n",
       "      <td>2006</td>\n",
       "      <td>118</td>\n",
       "      <td>0.836735</td>\n",
       "      <td>498879</td>\n",
       "      <td>37.62</td>\n",
       "      <td>0.975309</td>\n",
       "      <td>0.816075</td>\n",
       "      <td>0.816075</td>\n",
       "    </tr>\n",
       "    <tr>\n",
       "      <th>6</th>\n",
       "      <td>10033</td>\n",
       "      <td>La La Land</td>\n",
       "      <td>Comedy,Drama,Music</td>\n",
       "      <td>A jazz pianist falls for an aspiring actress i...</td>\n",
       "      <td>Damien Chazelle</td>\n",
       "      <td>Ryan Gosling, Emma Stone, Rosemarie DeWitt, J....</td>\n",
       "      <td>2016</td>\n",
       "      <td>128</td>\n",
       "      <td>0.857143</td>\n",
       "      <td>258682</td>\n",
       "      <td>151.06</td>\n",
       "      <td>0.913580</td>\n",
       "      <td>0.783069</td>\n",
       "      <td>0.783069</td>\n",
       "    </tr>\n",
       "    <tr>\n",
       "      <th>54</th>\n",
       "      <td>18466</td>\n",
       "      <td>The Dark Knight</td>\n",
       "      <td>Action,Crime,Drama</td>\n",
       "      <td>When the menace known as the Joker wreaks havo...</td>\n",
       "      <td>Christopher Nolan</td>\n",
       "      <td>Christian Bale, Heath Ledger, Aaron Eckhart,Mi...</td>\n",
       "      <td>2008</td>\n",
       "      <td>152</td>\n",
       "      <td>1.000000</td>\n",
       "      <td>1791916</td>\n",
       "      <td>533.32</td>\n",
       "      <td>0.777778</td>\n",
       "      <td>0.777778</td>\n",
       "      <td>0.777778</td>\n",
       "    </tr>\n",
       "    <tr>\n",
       "      <th>476</th>\n",
       "      <td>36475</td>\n",
       "      <td>The Lives of Others</td>\n",
       "      <td>Drama,Thriller</td>\n",
       "      <td>In 1984 East Berlin, an agent of the secret po...</td>\n",
       "      <td>Florian Henckel von Donnersmarck</td>\n",
       "      <td>Ulrich Mühe, Martina Gedeck,Sebastian Koch, Ul...</td>\n",
       "      <td>2006</td>\n",
       "      <td>137</td>\n",
       "      <td>0.897959</td>\n",
       "      <td>278103</td>\n",
       "      <td>11.28</td>\n",
       "      <td>0.864198</td>\n",
       "      <td>0.776014</td>\n",
       "      <td>0.776014</td>\n",
       "    </tr>\n",
       "    <tr>\n",
       "      <th>111</th>\n",
       "      <td>51629</td>\n",
       "      <td>12 Years a Slave</td>\n",
       "      <td>Biography,Drama,History</td>\n",
       "      <td>In the antebellum United States, Solomon North...</td>\n",
       "      <td>Steve McQueen</td>\n",
       "      <td>Chiwetel Ejiofor, Michael Kenneth Williams, Mi...</td>\n",
       "      <td>2013</td>\n",
       "      <td>134</td>\n",
       "      <td>0.816327</td>\n",
       "      <td>486338</td>\n",
       "      <td>56.67</td>\n",
       "      <td>0.950617</td>\n",
       "      <td>0.776014</td>\n",
       "      <td>0.776014</td>\n",
       "    </tr>\n",
       "  </tbody>\n",
       "</table>\n",
       "</div>"
      ],
      "text/plain": [
       "        id                title                    genre  \\\n",
       "230  25701      Pan's Labyrinth        Drama,Fantasy,War   \n",
       "6    10033           La La Land       Comedy,Drama,Music   \n",
       "54   18466      The Dark Knight       Action,Crime,Drama   \n",
       "476  36475  The Lives of Others           Drama,Thriller   \n",
       "111  51629     12 Years a Slave  Biography,Drama,History   \n",
       "\n",
       "                                           description  \\\n",
       "230  In the falangist Spain of 1944, the bookish yo...   \n",
       "6    A jazz pianist falls for an aspiring actress i...   \n",
       "54   When the menace known as the Joker wreaks havo...   \n",
       "476  In 1984 East Berlin, an agent of the secret po...   \n",
       "111  In the antebellum United States, Solomon North...   \n",
       "\n",
       "                             director  \\\n",
       "230                Guillermo del Toro   \n",
       "6                     Damien Chazelle   \n",
       "54                  Christopher Nolan   \n",
       "476  Florian Henckel von Donnersmarck   \n",
       "111                     Steve McQueen   \n",
       "\n",
       "                                                actors  year  runtime_minutes  \\\n",
       "230  Ivana Baquero, Ariadna Gil, Sergi López,Maribe...  2006              118   \n",
       "6    Ryan Gosling, Emma Stone, Rosemarie DeWitt, J....  2016              128   \n",
       "54   Christian Bale, Heath Ledger, Aaron Eckhart,Mi...  2008              152   \n",
       "476  Ulrich Mühe, Martina Gedeck,Sebastian Koch, Ul...  2006              137   \n",
       "111  Chiwetel Ejiofor, Michael Kenneth Williams, Mi...  2013              134   \n",
       "\n",
       "       rating    votes  revenue_in_millions  metascore  mixed_rating  \\\n",
       "230  0.836735   498879                37.62   0.975309      0.816075   \n",
       "6    0.857143   258682               151.06   0.913580      0.783069   \n",
       "54   1.000000  1791916               533.32   0.777778      0.777778   \n",
       "476  0.897959   278103                11.28   0.864198      0.776014   \n",
       "111  0.816327   486338                56.67   0.950617      0.776014   \n",
       "\n",
       "     mixing_rating  \n",
       "230       0.816075  \n",
       "6         0.783069  \n",
       "54        0.777778  \n",
       "476       0.776014  \n",
       "111       0.776014  "
      ]
     },
     "execution_count": 39,
     "metadata": {},
     "output_type": "execute_result"
    }
   ],
   "source": [
    "def normalize(df,col):\n",
    "    return (df[col]-df[col].min())/(df[col].max()-df[col].min())\n",
    "def mix_rating(row):\n",
    "    return row['rating']*row['metascore']\n",
    "\n",
    "#Ignore movies with not many raters\n",
    "rating_mask=df['votes']<100000\n",
    "df.loc[rating_mask,['rating','metascore']]=np.nan\n",
    "df.sort_values(by='votes',ascending=False).head(4)\n",
    "\n",
    "# Normalize each of the rating columns\n",
    "df['rating']=normalize(df,'rating')\n",
    "df['metascore']=normalize(df,'metascore')\n",
    "\n",
    "# Create a new feature (new column), called \"mixed_rating\"\n",
    "# Arithmetic Operation\n",
    "df['mixed_rating']=df['rating']*df['metascore'] \n",
    "# using the apply function\n",
    "df['mixing_rating']=df.apply(mix_rating,axis=1)\n",
    "\n",
    "# Show top 5 movies with highest \"mixed_rating\"\n",
    "df.sort_values(by='mixed_rating',ascending=False).head(5)\n"
   ]
  },
  {
   "cell_type": "markdown",
   "metadata": {
    "id": "pixHWLzqZABK"
   },
   "source": [
    "### 3. Making a Hit\n",
    "Plot the movies revenue distribution with with 50 bins.<br>\n",
    "* add a dashed red line to mark the median using the following code:<br>\n",
    "`plt.gca().axvline(df['revenue_millions'].median(), color='r', linestyle='--')`<BR>\n",
    "* name X axis - 'Revenue'"
   ]
  },
  {
   "cell_type": "code",
   "execution_count": 40,
   "metadata": {
    "colab": {
     "base_uri": "https://localhost:8080/",
     "height": 279
    },
    "executionInfo": {
     "elapsed": 1103,
     "status": "ok",
     "timestamp": 1614024670810,
     "user": {
      "displayName": "shahaf goren",
      "photoUrl": "",
      "userId": "10396340241877551029"
     },
     "user_tz": -120
    },
    "id": "6nP8t7hjZABL",
    "outputId": "88c50fe2-3d19-4255-aa30-eb7af88e81af"
   },
   "outputs": [
    {
     "data": {
      "image/png": "[encoded data removed]",
      "text/plain": [
       "<Figure size 432x288 with 1 Axes>"
      ]
     },
     "metadata": {
      "needs_background": "light"
     },
     "output_type": "display_data"
    }
   ],
   "source": [
    "import matplotlib.pyplot as plt\n",
    "df['revenue_in_millions'].plot.hist(x='Revenue',bins=50)\n",
    "plt.gca().axvline(df['revenue_in_millions'].median(),color='r',linestyle='--')\n",
    "plt.show()"
   ]
  }
 ],
 "metadata": {
  "colab": {
   "collapsed_sections": [
    "tjAy-Cy5ZABK"
   ],
   "name": "hw1_solution.ipynb",
   "provenance": []
  },
  "kernelspec": {
   "display_name": "Python 3",
   "name": "python3"
  },
  "language_info": {
   "codemirror_mode": {
    "name": "ipython",
    "version": 3
   },
   "file_extension": ".py",
   "mimetype": "text/x-python",
   "name": "python",
   "nbconvert_exporter": "python",
   "pygments_lexer": "ipython3",
   "version": "3.9.0"
  }
 },
 "nbformat": 4,
 "nbformat_minor": 0
}
