{
 "cells": [
  {
   "cell_type": "markdown",
   "metadata": {
    "id": "4CurZTD84YSe"
   },
   "source": [
    "<center><br><font size=10>Python for ML - HW_1</font><br>\n",
    "<b>Introduction to Machine Learning</b>\n",
    "<br><br>\n",
    "<b>Author</b>: Ilan Vasilevsky - ilanv@mail.tau.ac.il\n",
    "<br><i>Spring 2022</i></center>"
   ]
  },
  {
   "cell_type": "markdown",
   "metadata": {
    "id": "YddL5PwJV5T-"
   },
   "source": [
    "# Numpy\n",
    "\n",
    "<img src=\"https://numpy.org/images/logo.svg\" width=100>"
   ]
  },
  {
   "cell_type": "markdown",
   "metadata": {
    "id": "901B4PXu9ztx"
   },
   "source": [
    "## Instructions\n",
    "1. Write all code within the functions\n",
    "2. Make sure to **return** the solution in every function\n",
    "3. Don't be afraid to search the internet for help"
   ]
  },
  {
   "cell_type": "markdown",
   "metadata": {
    "id": "HfVXaVp54tsO"
   },
   "source": [
    "**Import Libraries**"
   ]
  },
  {
   "cell_type": "code",
   "execution_count": 5,
   "metadata": {
    "executionInfo": {
     "elapsed": 3,
     "status": "ok",
     "timestamp": 1636820128810,
     "user": {
      "displayName": "Ilan Vasilevsky",
      "photoUrl": "https://lh3.googleusercontent.com/a-/AOh14GguyxPxQM0_RGlxWIPJAwj0FMVfxWgPlwWl0QT3=s64",
      "userId": "01351641955183714281"
     },
     "user_tz": -120
    },
    "id": "9mpxV3Bn4tHX"
   },
   "outputs": [],
   "source": [
    "import numpy as np"
   ]
  },
  {
   "cell_type": "markdown",
   "metadata": {
    "id": "lb-KbeUR4_3_"
   },
   "source": [
    "## 1. Repeat question 1 from the hand-written exercise in code"
   ]
  },
  {
   "cell_type": "markdown",
   "metadata": {
    "id": "D7tSDwRU7XsK"
   },
   "source": [
    "### 1. prep) Create the matrix X that was given in the exercise <br> \n",
    "\n",
    "$X = \\begin{pmatrix}\n",
    "1 & 2 & 0\\\\\n",
    "0 & 1 & 0\\\\\n",
    "-1 & -1 & 1\\\\\n",
    "2 & 0 & 1\\\\\n",
    "\\end{pmatrix}$\n",
    "<br><br>\n",
    "Complete the function `create_x()`. <br>\n",
    "The function should return a 2-dimentional numpy array (matrix)"
   ]
  },
  {
   "cell_type": "code",
   "execution_count": 52,
   "metadata": {
    "executionInfo": {
     "elapsed": 3,
     "status": "ok",
     "timestamp": 1636820128810,
     "user": {
      "displayName": "Ilan Vasilevsky",
      "photoUrl": "https://lh3.googleusercontent.com/a-/AOh14GguyxPxQM0_RGlxWIPJAwj0FMVfxWgPlwWl0QT3=s64",
      "userId": "01351641955183714281"
     },
     "user_tz": -120
    },
    "id": "1mf1m5BI8ayp"
   },
   "outputs": [],
   "source": [
    "def create_x():\n",
    "  return np.array([[1,2,0],[0,1,0],[-1,-1,1],[2,0,1]])"
   ]
  },
  {
   "cell_type": "markdown",
   "metadata": {
    "id": "r6rT1FNJ-Fxa"
   },
   "source": [
    "### 1. a) Calculate $||X_{2}||_{2}$ and $||X_{2}||_{2}^2$\n"
   ]
  },
  {
   "cell_type": "markdown",
   "metadata": {
    "id": "D537KCJuAWek"
   },
   "source": [
    "Complete the function `calc_norms(X)` where X is the input matrix.<br><br> The function should return a dictionary containing the values:<br>\n",
    "* norm_x2 = $||X_{2}||_{2}$<br>\n",
    "* norm_x2_squared = $||X_{2}||_{2}^2$"
   ]
  },
  {
   "cell_type": "code",
   "execution_count": 53,
   "metadata": {
    "executionInfo": {
     "elapsed": 269,
     "status": "ok",
     "timestamp": 1636820432831,
     "user": {
      "displayName": "Ilan Vasilevsky",
      "photoUrl": "https://lh3.googleusercontent.com/a-/AOh14GguyxPxQM0_RGlxWIPJAwj0FMVfxWgPlwWl0QT3=s64",
      "userId": "01351641955183714281"
     },
     "user_tz": -120
    },
    "id": "hRqvsXI6_pg0"
   },
   "outputs": [],
   "source": [
    "def calc_norms(X):\n",
    "  norm_x2=np.linalg.norm(X[2,:])\n",
    "  return {'norm_x2':norm_x2,'norm_x2_squared':norm_x2**2}"
   ]
  },
  {
   "cell_type": "markdown",
   "metadata": {
    "id": "g9RvjD0LBi7P"
   },
   "source": [
    "Test your solution"
   ]
  },
  {
   "cell_type": "code",
   "execution_count": 62,
   "metadata": {
    "colab": {
     "base_uri": "https://localhost:8080/"
    },
    "executionInfo": {
     "elapsed": 263,
     "status": "ok",
     "timestamp": 1636820435659,
     "user": {
      "displayName": "Ilan Vasilevsky",
      "photoUrl": "https://lh3.googleusercontent.com/a-/AOh14GguyxPxQM0_RGlxWIPJAwj0FMVfxWgPlwWl0QT3=s64",
      "userId": "01351641955183714281"
     },
     "user_tz": -120
    },
    "id": "YQ4rX4bKBd1S",
    "outputId": "00524fc5-89eb-4abe-a951-44240ce1bcd8"
   },
   "outputs": [
    {
     "name": "stdout",
     "output_type": "stream",
     "text": [
      "{'norm_x2': 1.7320508075688772, 'norm_x2_squared': 2.9999999999999996}\n"
     ]
    },
    {
     "ename": "LinAlgError",
     "evalue": "Last 2 dimensions of the array must be square",
     "output_type": "error",
     "traceback": [
      "\u001b[1;31m---------------------------------------------------------------------------\u001b[0m",
      "\u001b[1;31mLinAlgError\u001b[0m                               Traceback (most recent call last)",
      "\u001b[1;32m<ipython-input-62-a3856796e639>\u001b[0m in \u001b[0;36m<module>\u001b[1;34m\u001b[0m\n\u001b[0;32m      1\u001b[0m \u001b[0mX\u001b[0m \u001b[1;33m=\u001b[0m \u001b[0mcreate_x\u001b[0m\u001b[1;33m(\u001b[0m\u001b[1;33m)\u001b[0m\u001b[1;33m\u001b[0m\u001b[1;33m\u001b[0m\u001b[0m\n\u001b[0;32m      2\u001b[0m \u001b[0mprint\u001b[0m\u001b[1;33m(\u001b[0m\u001b[0mcalc_norms\u001b[0m\u001b[1;33m(\u001b[0m\u001b[0mX\u001b[0m\u001b[1;33m)\u001b[0m\u001b[1;33m)\u001b[0m\u001b[1;33m\u001b[0m\u001b[1;33m\u001b[0m\u001b[0m\n\u001b[1;32m----> 3\u001b[1;33m \u001b[0mprint\u001b[0m\u001b[1;33m(\u001b[0m\u001b[0mnp\u001b[0m\u001b[1;33m.\u001b[0m\u001b[0mlinalg\u001b[0m\u001b[1;33m.\u001b[0m\u001b[0minv\u001b[0m\u001b[1;33m(\u001b[0m\u001b[0mX\u001b[0m\u001b[1;33m)\u001b[0m\u001b[1;33m)\u001b[0m\u001b[1;33m\u001b[0m\u001b[1;33m\u001b[0m\u001b[0m\n\u001b[0m",
      "\u001b[1;32m<__array_function__ internals>\u001b[0m in \u001b[0;36minv\u001b[1;34m(*args, **kwargs)\u001b[0m\n",
      "\u001b[1;32m~\\AppData\\Local\\Programs\\Python\\Python39\\lib\\site-packages\\numpy\\linalg\\linalg.py\u001b[0m in \u001b[0;36minv\u001b[1;34m(a)\u001b[0m\n\u001b[0;32m    538\u001b[0m     \u001b[0ma\u001b[0m\u001b[1;33m,\u001b[0m \u001b[0mwrap\u001b[0m \u001b[1;33m=\u001b[0m \u001b[0m_makearray\u001b[0m\u001b[1;33m(\u001b[0m\u001b[0ma\u001b[0m\u001b[1;33m)\u001b[0m\u001b[1;33m\u001b[0m\u001b[1;33m\u001b[0m\u001b[0m\n\u001b[0;32m    539\u001b[0m     \u001b[0m_assert_stacked_2d\u001b[0m\u001b[1;33m(\u001b[0m\u001b[0ma\u001b[0m\u001b[1;33m)\u001b[0m\u001b[1;33m\u001b[0m\u001b[1;33m\u001b[0m\u001b[0m\n\u001b[1;32m--> 540\u001b[1;33m     \u001b[0m_assert_stacked_square\u001b[0m\u001b[1;33m(\u001b[0m\u001b[0ma\u001b[0m\u001b[1;33m)\u001b[0m\u001b[1;33m\u001b[0m\u001b[1;33m\u001b[0m\u001b[0m\n\u001b[0m\u001b[0;32m    541\u001b[0m     \u001b[0mt\u001b[0m\u001b[1;33m,\u001b[0m \u001b[0mresult_t\u001b[0m \u001b[1;33m=\u001b[0m \u001b[0m_commonType\u001b[0m\u001b[1;33m(\u001b[0m\u001b[0ma\u001b[0m\u001b[1;33m)\u001b[0m\u001b[1;33m\u001b[0m\u001b[1;33m\u001b[0m\u001b[0m\n\u001b[0;32m    542\u001b[0m \u001b[1;33m\u001b[0m\u001b[0m\n",
      "\u001b[1;32m~\\AppData\\Local\\Programs\\Python\\Python39\\lib\\site-packages\\numpy\\linalg\\linalg.py\u001b[0m in \u001b[0;36m_assert_stacked_square\u001b[1;34m(*arrays)\u001b[0m\n\u001b[0;32m    201\u001b[0m         \u001b[0mm\u001b[0m\u001b[1;33m,\u001b[0m \u001b[0mn\u001b[0m \u001b[1;33m=\u001b[0m \u001b[0ma\u001b[0m\u001b[1;33m.\u001b[0m\u001b[0mshape\u001b[0m\u001b[1;33m[\u001b[0m\u001b[1;33m-\u001b[0m\u001b[1;36m2\u001b[0m\u001b[1;33m:\u001b[0m\u001b[1;33m]\u001b[0m\u001b[1;33m\u001b[0m\u001b[1;33m\u001b[0m\u001b[0m\n\u001b[0;32m    202\u001b[0m         \u001b[1;32mif\u001b[0m \u001b[0mm\u001b[0m \u001b[1;33m!=\u001b[0m \u001b[0mn\u001b[0m\u001b[1;33m:\u001b[0m\u001b[1;33m\u001b[0m\u001b[1;33m\u001b[0m\u001b[0m\n\u001b[1;32m--> 203\u001b[1;33m             \u001b[1;32mraise\u001b[0m \u001b[0mLinAlgError\u001b[0m\u001b[1;33m(\u001b[0m\u001b[1;34m'Last 2 dimensions of the array must be square'\u001b[0m\u001b[1;33m)\u001b[0m\u001b[1;33m\u001b[0m\u001b[1;33m\u001b[0m\u001b[0m\n\u001b[0m\u001b[0;32m    204\u001b[0m \u001b[1;33m\u001b[0m\u001b[0m\n\u001b[0;32m    205\u001b[0m \u001b[1;32mdef\u001b[0m \u001b[0m_assert_finite\u001b[0m\u001b[1;33m(\u001b[0m\u001b[1;33m*\u001b[0m\u001b[0marrays\u001b[0m\u001b[1;33m)\u001b[0m\u001b[1;33m:\u001b[0m\u001b[1;33m\u001b[0m\u001b[1;33m\u001b[0m\u001b[0m\n",
      "\u001b[1;31mLinAlgError\u001b[0m: Last 2 dimensions of the array must be square"
     ]
    }
   ],
   "source": [
    "X = create_x()\n",
    "print(calc_norms(X))\n",
    "print(np.linalg.inv(X))"
   ]
  },
  {
   "cell_type": "markdown",
   "metadata": {
    "id": "rI9LEdGLgOFs"
   },
   "source": [
    "### 1. f+g+h) Correlation Matrix \n",
    "Calculate the correlation matrix C, Then calculate the determinant and the inverse of C <br><br>\n",
    "Reminder : <br>\n",
    "f) $C=X^TX$ <br>\n",
    "g) $det(C) = det(X^TX)$ <br>\n",
    "h) inverse matrix : $C^{-1} = (X^TX)^-1 $ \n",
    "  <br><br>\n",
    "Complete the function `corr_mat_atts(X)` where X is the input matrix.<br>\n",
    "The function should return a **dictionary** containing the values:<br>\n",
    "* C = Correlation matrix\n",
    "* C_det = Determinant of C\n",
    "* C_inv = inverse of C"
   ]
  },
  {
   "cell_type": "code",
   "execution_count": 63,
   "metadata": {
    "executionInfo": {
     "elapsed": 274,
     "status": "ok",
     "timestamp": 1636821366320,
     "user": {
      "displayName": "Ilan Vasilevsky",
      "photoUrl": "https://lh3.googleusercontent.com/a-/AOh14GguyxPxQM0_RGlxWIPJAwj0FMVfxWgPlwWl0QT3=s64",
      "userId": "01351641955183714281"
     },
     "user_tz": -120
    },
    "id": "j9WAYKRjgZ-9"
   },
   "outputs": [],
   "source": [
    "def corr_mat_atts(X):\n",
    "  return {'C':np.matmul(np.transpose(X),X),'C_det':np.linalg.det(X),'C_inv':np.linalg.inv(X)} "
   ]
  },
  {
   "cell_type": "code",
   "execution_count": 64,
   "metadata": {
    "colab": {
     "base_uri": "https://localhost:8080/"
    },
    "executionInfo": {
     "elapsed": 3,
     "status": "ok",
     "timestamp": 1636821367380,
     "user": {
      "displayName": "Ilan Vasilevsky",
      "photoUrl": "https://lh3.googleusercontent.com/a-/AOh14GguyxPxQM0_RGlxWIPJAwj0FMVfxWgPlwWl0QT3=s64",
      "userId": "01351641955183714281"
     },
     "user_tz": -120
    },
    "id": "PKx1IAhgglgN",
    "outputId": "5373eec0-2fcc-4d65-c245-3f8ee38a57de"
   },
   "outputs": [
    {
     "ename": "LinAlgError",
     "evalue": "Last 2 dimensions of the array must be square",
     "output_type": "error",
     "traceback": [
      "\u001b[1;31m---------------------------------------------------------------------------\u001b[0m",
      "\u001b[1;31mLinAlgError\u001b[0m                               Traceback (most recent call last)",
      "\u001b[1;32m<ipython-input-64-872ececc1947>\u001b[0m in \u001b[0;36m<module>\u001b[1;34m\u001b[0m\n\u001b[0;32m      1\u001b[0m \u001b[1;31m#Test your solution\u001b[0m\u001b[1;33m\u001b[0m\u001b[1;33m\u001b[0m\u001b[1;33m\u001b[0m\u001b[0m\n\u001b[1;32m----> 2\u001b[1;33m \u001b[0mC_atts\u001b[0m \u001b[1;33m=\u001b[0m \u001b[0mcorr_mat_atts\u001b[0m\u001b[1;33m(\u001b[0m\u001b[0mX\u001b[0m\u001b[1;33m)\u001b[0m\u001b[1;33m\u001b[0m\u001b[1;33m\u001b[0m\u001b[0m\n\u001b[0m\u001b[0;32m      3\u001b[0m \u001b[0mC\u001b[0m \u001b[1;33m=\u001b[0m \u001b[0mC_atts\u001b[0m\u001b[1;33m[\u001b[0m\u001b[1;34m'C'\u001b[0m\u001b[1;33m]\u001b[0m\u001b[1;33m\u001b[0m\u001b[1;33m\u001b[0m\u001b[0m\n\u001b[0;32m      4\u001b[0m \u001b[0mdetC\u001b[0m \u001b[1;33m=\u001b[0m \u001b[0mC_atts\u001b[0m\u001b[1;33m[\u001b[0m\u001b[1;34m'C_det'\u001b[0m\u001b[1;33m]\u001b[0m\u001b[1;33m\u001b[0m\u001b[1;33m\u001b[0m\u001b[0m\n\u001b[0;32m      5\u001b[0m \u001b[0minvC\u001b[0m \u001b[1;33m=\u001b[0m \u001b[0mC_atts\u001b[0m\u001b[1;33m[\u001b[0m\u001b[1;34m'C_inv'\u001b[0m\u001b[1;33m]\u001b[0m\u001b[1;33m\u001b[0m\u001b[1;33m\u001b[0m\u001b[0m\n",
      "\u001b[1;32m<ipython-input-63-3fccb6b49115>\u001b[0m in \u001b[0;36mcorr_mat_atts\u001b[1;34m(X)\u001b[0m\n\u001b[0;32m      1\u001b[0m \u001b[1;32mdef\u001b[0m \u001b[0mcorr_mat_atts\u001b[0m\u001b[1;33m(\u001b[0m\u001b[0mX\u001b[0m\u001b[1;33m)\u001b[0m\u001b[1;33m:\u001b[0m\u001b[1;33m\u001b[0m\u001b[1;33m\u001b[0m\u001b[0m\n\u001b[1;32m----> 2\u001b[1;33m   \u001b[1;32mreturn\u001b[0m \u001b[1;33m{\u001b[0m\u001b[1;34m'C'\u001b[0m\u001b[1;33m:\u001b[0m\u001b[0mnp\u001b[0m\u001b[1;33m.\u001b[0m\u001b[0mmatmul\u001b[0m\u001b[1;33m(\u001b[0m\u001b[0mnp\u001b[0m\u001b[1;33m.\u001b[0m\u001b[0mtranspose\u001b[0m\u001b[1;33m(\u001b[0m\u001b[0mX\u001b[0m\u001b[1;33m)\u001b[0m\u001b[1;33m,\u001b[0m\u001b[0mX\u001b[0m\u001b[1;33m)\u001b[0m\u001b[1;33m,\u001b[0m\u001b[1;34m'C_det'\u001b[0m\u001b[1;33m:\u001b[0m\u001b[0mnp\u001b[0m\u001b[1;33m.\u001b[0m\u001b[0mlinalg\u001b[0m\u001b[1;33m.\u001b[0m\u001b[0mdet\u001b[0m\u001b[1;33m(\u001b[0m\u001b[0mX\u001b[0m\u001b[1;33m)\u001b[0m\u001b[1;33m,\u001b[0m\u001b[1;34m'C_inv'\u001b[0m\u001b[1;33m:\u001b[0m\u001b[0mnp\u001b[0m\u001b[1;33m.\u001b[0m\u001b[0mlinalg\u001b[0m\u001b[1;33m.\u001b[0m\u001b[0minv\u001b[0m\u001b[1;33m(\u001b[0m\u001b[0mX\u001b[0m\u001b[1;33m)\u001b[0m\u001b[1;33m}\u001b[0m\u001b[1;33m\u001b[0m\u001b[1;33m\u001b[0m\u001b[0m\n\u001b[0m",
      "\u001b[1;32m<__array_function__ internals>\u001b[0m in \u001b[0;36mdet\u001b[1;34m(*args, **kwargs)\u001b[0m\n",
      "\u001b[1;32m~\\AppData\\Local\\Programs\\Python\\Python39\\lib\\site-packages\\numpy\\linalg\\linalg.py\u001b[0m in \u001b[0;36mdet\u001b[1;34m(a)\u001b[0m\n\u001b[0;32m   2153\u001b[0m     \u001b[0ma\u001b[0m \u001b[1;33m=\u001b[0m \u001b[0masarray\u001b[0m\u001b[1;33m(\u001b[0m\u001b[0ma\u001b[0m\u001b[1;33m)\u001b[0m\u001b[1;33m\u001b[0m\u001b[1;33m\u001b[0m\u001b[0m\n\u001b[0;32m   2154\u001b[0m     \u001b[0m_assert_stacked_2d\u001b[0m\u001b[1;33m(\u001b[0m\u001b[0ma\u001b[0m\u001b[1;33m)\u001b[0m\u001b[1;33m\u001b[0m\u001b[1;33m\u001b[0m\u001b[0m\n\u001b[1;32m-> 2155\u001b[1;33m     \u001b[0m_assert_stacked_square\u001b[0m\u001b[1;33m(\u001b[0m\u001b[0ma\u001b[0m\u001b[1;33m)\u001b[0m\u001b[1;33m\u001b[0m\u001b[1;33m\u001b[0m\u001b[0m\n\u001b[0m\u001b[0;32m   2156\u001b[0m     \u001b[0mt\u001b[0m\u001b[1;33m,\u001b[0m \u001b[0mresult_t\u001b[0m \u001b[1;33m=\u001b[0m \u001b[0m_commonType\u001b[0m\u001b[1;33m(\u001b[0m\u001b[0ma\u001b[0m\u001b[1;33m)\u001b[0m\u001b[1;33m\u001b[0m\u001b[1;33m\u001b[0m\u001b[0m\n\u001b[0;32m   2157\u001b[0m     \u001b[0msignature\u001b[0m \u001b[1;33m=\u001b[0m \u001b[1;34m'D->D'\u001b[0m \u001b[1;32mif\u001b[0m \u001b[0misComplexType\u001b[0m\u001b[1;33m(\u001b[0m\u001b[0mt\u001b[0m\u001b[1;33m)\u001b[0m \u001b[1;32melse\u001b[0m \u001b[1;34m'd->d'\u001b[0m\u001b[1;33m\u001b[0m\u001b[1;33m\u001b[0m\u001b[0m\n",
      "\u001b[1;32m~\\AppData\\Local\\Programs\\Python\\Python39\\lib\\site-packages\\numpy\\linalg\\linalg.py\u001b[0m in \u001b[0;36m_assert_stacked_square\u001b[1;34m(*arrays)\u001b[0m\n\u001b[0;32m    201\u001b[0m         \u001b[0mm\u001b[0m\u001b[1;33m,\u001b[0m \u001b[0mn\u001b[0m \u001b[1;33m=\u001b[0m \u001b[0ma\u001b[0m\u001b[1;33m.\u001b[0m\u001b[0mshape\u001b[0m\u001b[1;33m[\u001b[0m\u001b[1;33m-\u001b[0m\u001b[1;36m2\u001b[0m\u001b[1;33m:\u001b[0m\u001b[1;33m]\u001b[0m\u001b[1;33m\u001b[0m\u001b[1;33m\u001b[0m\u001b[0m\n\u001b[0;32m    202\u001b[0m         \u001b[1;32mif\u001b[0m \u001b[0mm\u001b[0m \u001b[1;33m!=\u001b[0m \u001b[0mn\u001b[0m\u001b[1;33m:\u001b[0m\u001b[1;33m\u001b[0m\u001b[1;33m\u001b[0m\u001b[0m\n\u001b[1;32m--> 203\u001b[1;33m             \u001b[1;32mraise\u001b[0m \u001b[0mLinAlgError\u001b[0m\u001b[1;33m(\u001b[0m\u001b[1;34m'Last 2 dimensions of the array must be square'\u001b[0m\u001b[1;33m)\u001b[0m\u001b[1;33m\u001b[0m\u001b[1;33m\u001b[0m\u001b[0m\n\u001b[0m\u001b[0;32m    204\u001b[0m \u001b[1;33m\u001b[0m\u001b[0m\n\u001b[0;32m    205\u001b[0m \u001b[1;32mdef\u001b[0m \u001b[0m_assert_finite\u001b[0m\u001b[1;33m(\u001b[0m\u001b[1;33m*\u001b[0m\u001b[0marrays\u001b[0m\u001b[1;33m)\u001b[0m\u001b[1;33m:\u001b[0m\u001b[1;33m\u001b[0m\u001b[1;33m\u001b[0m\u001b[0m\n",
      "\u001b[1;31mLinAlgError\u001b[0m: Last 2 dimensions of the array must be square"
     ]
    }
   ],
   "source": [
    "#Test your solution\n",
    "C_atts = corr_mat_atts(X)\n",
    "C = C_atts['C']\n",
    "detC = C_atts['C_det']\n",
    "invC = C_atts['C_inv']\n",
    "print(f'C: \\n{C}\\n')\n",
    "print(f\"det(C) = {detC}\")\n",
    "print(f\"\\n C^-1: \\n{invC}\")"
   ]
  },
  {
   "cell_type": "markdown",
   "metadata": {
    "id": "d-_gruoEj73u"
   },
   "source": [
    "## 2. Given a scalar and an 1d array, find the closest value to this scalar\n",
    "Complete the function `closest_val(v,s)` , where v is an array and s is a scalar. The function should return the closest value to s, that is in array v. <br><br>\n",
    "for example, given the input: v = [1,3,9] ; s=14 <br>\n",
    "the function should return 9"
   ]
  },
  {
   "cell_type": "code",
   "execution_count": 73,
   "metadata": {
    "id": "wqaQTkuAlFzE"
   },
   "outputs": [],
   "source": [
    "#v is the 1-d array (vector) and \n",
    "def closest_val(v,s):\n",
    "  return v[np.argmin(np.abs(v-s))]\n",
    "    "
   ]
  },
  {
   "cell_type": "code",
   "execution_count": 74,
   "metadata": {
    "colab": {
     "base_uri": "https://localhost:8080/"
    },
    "executionInfo": {
     "elapsed": 422,
     "status": "ok",
     "timestamp": 1635251733494,
     "user": {
      "displayName": "Ilan Vasilevsky",
      "photoUrl": "https://lh3.googleusercontent.com/a-/AOh14GguyxPxQM0_RGlxWIPJAwj0FMVfxWgPlwWl0QT3=s64",
      "userId": "01351641955183714281"
     },
     "user_tz": -180
    },
    "id": "8XPebogImFgC",
    "outputId": "153b4546-113e-4068-8a94-5943de67bcfb"
   },
   "outputs": [
    {
     "name": "stdout",
     "output_type": "stream",
     "text": [
      "7\n"
     ]
    }
   ],
   "source": [
    "#Test your code\n",
    "v = np.array([10,14,2,7])\n",
    "s = 6\n",
    "print(closest_val(v,s))"
   ]
  },
  {
   "cell_type": "markdown",
   "metadata": {
    "id": "GV7JLrYamgxV"
   },
   "source": [
    "## 3. Thresholding\n",
    "Given a matrix `M` and a scalar threshold `thresh`, the function should return a new matrix with same dimensions as `M`, that contains:\n",
    "\n",
    "-   1 where values is equal or above threshold\n",
    "-   0 where values are below threshold\n",
    "\n",
    "for example `thresh=3`, \n",
    "$M=\\begin{pmatrix}\n",
    "1 & 2 & 9\\\\\n",
    "-1 & 4 & 0\\\\\n",
    "\\end{pmatrix}$\n",
    "<br>\n",
    "output will be:<br>\n",
    "$Out=\\begin{pmatrix}\n",
    "0 & 0 & 1\\\\\n",
    "0 & 1 & 0\\\\\n",
    "\\end{pmatrix}$\n",
    "<br><br>\n",
    "Hint: be cautious not to overwrite the original M matrix"
   ]
  },
  {
   "cell_type": "code",
   "execution_count": 19,
   "metadata": {
    "id": "QB4FR51go4CV"
   },
   "outputs": [],
   "source": [
    "def thresh_func(M,thresh):\n",
    "  return np.where(M>=thresh,1,0)"
   ]
  },
  {
   "cell_type": "code",
   "execution_count": 20,
   "metadata": {
    "colab": {
     "base_uri": "https://localhost:8080/"
    },
    "executionInfo": {
     "elapsed": 405,
     "status": "ok",
     "timestamp": 1635252853354,
     "user": {
      "displayName": "Ilan Vasilevsky",
      "photoUrl": "https://lh3.googleusercontent.com/a-/AOh14GguyxPxQM0_RGlxWIPJAwj0FMVfxWgPlwWl0QT3=s64",
      "userId": "01351641955183714281"
     },
     "user_tz": -180
    },
    "id": "BD2mVyoGplz1",
    "outputId": "8db540f8-9302-465e-bd97-db9a39d197ad"
   },
   "outputs": [
    {
     "name": "stdout",
     "output_type": "stream",
     "text": [
      "[[0 0 1]\n",
      " [0 1 0]]\n"
     ]
    }
   ],
   "source": [
    "#Test your code\n",
    "M = np.array([[1,2,9],[-1,4,0]])\n",
    "print(thresh_func(M,3))"
   ]
  },
  {
   "cell_type": "markdown",
   "metadata": {},
   "source": [
    "## 4. Grade Checking\n",
    "For a given matrix M, where each row index is a student and columns indexes are exercises:<br>\n",
    "calculate for the first **n** students and range of execrcises  [**a**,**b**] (b>a): <br> \n",
    "* Average score for each exercise\n",
    "* std for each exercise\n",
    "* Minimal score of each **Student**\n",
    "<br><br>\n",
    "Example of input:\n",
    "$M=\\begin{pmatrix}\n",
    "100 & 82 & 91\\\\\n",
    "95 & 73 & 62\\\\\n",
    "97 & 84 & 78\\\\\n",
    "100 & 91 & 86\\\\\n",
    "\\end{pmatrix}$\n",
    "<br>\n",
    "In this matrix there are 4 students (rows) and 3 exercises (columns). <br>\n",
    "The i,j element of the function is the grade of exercise j for student i<br>\n",
    "for example, $M_{1,2} = 62$ : That means that student 1 got a grade of 62 for exercise 2\n",
    "<br><br>\n",
    "Example of the corresponding output:<br>\n"
   ]
  },
  {
   "cell_type": "markdown",
   "metadata": {},
   "source": [
    "### Instructions\n",
    "Complete the function `calc_grade_atts(grades,n,a,b)` Where: <br>\n",
    "**grades** - input matrix (same as M mentioned before) <br>\n",
    "**n** - first number of students to include in the calculation <br>\n",
    "**a,b** - range of exercises to include in the calculation (b should be greater than a)<br>\n",
    "<br><br>\n",
    "The function should return a dictionary that contains the following:\n",
    "- avg_ex - average grade of each exercise in relevant data\n",
    "- std_ex - standart deviation of each exercise in relevant data\n",
    "- min_grade - minimal grade for each student in relevant data"
   ]
  },
  {
   "cell_type": "markdown",
   "metadata": {},
   "source": [
    "\n",
    "relevant data - first n students and exercises in range [a,b]\n",
    "<br><br>\n",
    "Assume the input is valid"
   ]
  },
  {
   "cell_type": "code",
   "execution_count": 9,
   "metadata": {},
   "outputs": [],
   "source": [
    "def calc_grade_atts(grades,n,a,b):\n",
    "    return {'avg_ex':None, 'std_ex':None, 'min_grade':None}"
   ]
  },
  {
   "cell_type": "code",
   "execution_count": null,
   "metadata": {},
   "outputs": [],
   "source": [
    "#Test your solution\n",
    "M = np.array([[100,82,91],[95,73,62],[97,84,78],[100,91,86]])\n",
    "n_students = M.shape[0]\n",
    "n_ex = M.shape[1]\n",
    "calc_grade_atts(M,n_students,0,n_ex) #analyze the full input matrix"
   ]
  },
  {
   "cell_type": "markdown",
   "metadata": {},
   "source": [
    "***"
   ]
  },
  {
   "cell_type": "markdown",
   "metadata": {
    "id": "d9HNbdSzqoJa"
   },
   "source": [
    "# Pandas\n"
   ]
  },
  {
   "cell_type": "markdown",
   "metadata": {
    "id": "H3n3JiUei2KU"
   },
   "source": [
    "<img src=\"https://pandas.pydata.org/static/img/pandas_white.svg\" width=300>\n",
    "<img src=\"https://m.media-amazon.com/images/G/01/IMDb/BG_rectangle._CB1509060989_SY230_SX307_AL_.png\" width=200>"
   ]
  },
  {
   "cell_type": "markdown",
   "metadata": {
    "id": "kkr_JF4Si2KU"
   },
   "source": [
    "**Import Libraries** :\n",
    "- Numpy as np\n",
    "- Pandas as pd"
   ]
  },
  {
   "cell_type": "code",
   "execution_count": 2,
   "metadata": {
    "id": "qKmgiJ_Ui2KW"
   },
   "outputs": [],
   "source": [
    "import numpy as np\n",
    "import pandas as pd"
   ]
  },
  {
   "cell_type": "markdown",
   "metadata": {
    "id": "n6bFVF4Ji2KV"
   },
   "source": [
    "**Load IMDB data set** to **Dataframe** named df<br><br>\n",
    "\n",
    "> path should be 'IMDB-Movie-Data.csv' if file in the same folder as notebook or 'C:\\\\\\PATH\\\\\\TO\\\\\\IMDB-Movie-Data.csv' if not (note we must use double backslashes on windows to distinguish from backslash of special chars like \\\\n) "
   ]
  },
  {
   "cell_type": "code",
   "execution_count": 3,
   "metadata": {
    "id": "K0cOlvXsi2KW"
   },
   "outputs": [],
   "source": [
    "df=pd.read_csv('IMDB-Movie-Data.csv')"
   ]
  },
  {
   "cell_type": "markdown",
   "metadata": {
    "id": "4F-jACg_4kkT"
   },
   "source": [
    "## 0. Clean Up"
   ]
  },
  {
   "cell_type": "markdown",
   "metadata": {
    "id": "ckf9dN-Mi2KW"
   },
   "source": [
    "**Change columns name** :\n",
    "- 'Runtime (Minutes)' to  'Runtime_minutes' \n",
    "- 'Revenue (Millions)' to 'Revenue_in_millions'"
   ]
  },
  {
   "cell_type": "code",
   "execution_count": 7,
   "metadata": {
    "id": "SrvxGPketEyx"
   },
   "outputs": [],
   "source": [
    "df.rename(columns={'Runtime (Minutes)':'Runtime_minutes','Revenue (Millions)':'Revenue_in_millions'},inplace=True)"
   ]
  },
  {
   "cell_type": "markdown",
   "metadata": {
    "id": "Hy1v8GMDi2KX"
   },
   "source": [
    "**Convert all column names to lower case**\n",
    "\n",
    "for example :\n",
    "column 'Runtime' to 'runtime'"
   ]
  },
  {
   "cell_type": "code",
   "execution_count": 8,
   "metadata": {
    "id": "t9qHcyR-i2KX"
   },
   "outputs": [],
   "source": [
    "df.columns=[col.lower for col in df]"
   ]
  },
  {
   "cell_type": "markdown",
   "metadata": {
    "id": "aMIsru_Ii2KX"
   },
   "source": [
    "### 1. For the Artistic Value Of It\n",
    "Find all movies that were **released between 2012 and 2014**, have a **rating above 7.8**, but made **below the median revenue.**<br>\n",
    "Show **top 4 by number of votes**. <br> \n",
    "\n",
    "Suggestion: use `df.sort_values`"
   ]
  },
  {
   "cell_type": "code",
   "execution_count": null,
   "metadata": {
    "id": "smP6WJIFq5rv"
   },
   "outputs": [],
   "source": []
  },
  {
   "cell_type": "markdown",
   "metadata": {
    "id": "tjAy-Cy5ZABK"
   },
   "source": [
    "### 2. Meta-metascore\n",
    "Create a new rating feature that takes both the [rating](https://help.imdb.com/article/imdb/track-movies-tv/ratings-faq/G67Y87TFYYP6TWAV#calculate) and the [metascore](https://www.metacritic.com/about-metascores).<br>\n",
    "\n",
    "1. Ignore movies with not many raters: <br>Change `rating` and `metascore` of movies with below 100,000 votes to NaN.\n",
    "2. Normalize each of the rating columns (\"rating\" and \"metascore\") to be between 0 to 1.\n",
    "3. Create a new feature (new column), called \"mixed_rating\" to be the multiplication of the two normalized columns:\n",
    "    <br>a. By using simple Arithmetic Operation.\n",
    "    <br>b. By using the `apply` function.\n",
    "4. Show top 5 movies with highest \"mixed_rating\" (show all table columns)"
   ]
  },
  {
   "cell_type": "code",
   "execution_count": null,
   "metadata": {
    "colab": {
     "base_uri": "https://localhost:8080/",
     "height": 309
    },
    "executionInfo": {
     "elapsed": 579,
     "status": "ok",
     "timestamp": 1614018336834,
     "user": {
      "displayName": "shahaf goren",
      "photoUrl": "",
      "userId": "10396340241877551029"
     },
     "user_tz": -120
    },
    "id": "E3OzO-6tZABK",
    "outputId": "1e30299e-80ff-4e26-89d2-a6b7ecca3b20",
    "scrolled": true
   },
   "outputs": [],
   "source": []
  },
  {
   "cell_type": "markdown",
   "metadata": {
    "id": "pixHWLzqZABK"
   },
   "source": [
    "### 3. Making a Hit\n",
    "Plot the movies revenue distribution with with 50 bins.<br>\n",
    "* add a dashed red line to mark the median using the following code:<br>\n",
    "`plt.gca().axvline(df['revenue_millions'].median(), color='r', linestyle='--')`<BR>\n",
    "* name X axis - 'Revenue'"
   ]
  },
  {
   "cell_type": "code",
   "execution_count": null,
   "metadata": {
    "colab": {
     "base_uri": "https://localhost:8080/",
     "height": 279
    },
    "executionInfo": {
     "elapsed": 1103,
     "status": "ok",
     "timestamp": 1614024670810,
     "user": {
      "displayName": "shahaf goren",
      "photoUrl": "",
      "userId": "10396340241877551029"
     },
     "user_tz": -120
    },
    "id": "6nP8t7hjZABL",
    "outputId": "88c50fe2-3d19-4255-aa30-eb7af88e81af"
   },
   "outputs": [],
   "source": []
  }
 ],
 "metadata": {
  "colab": {
   "collapsed_sections": [
    "tjAy-Cy5ZABK"
   ],
   "name": "hw1_solution.ipynb",
   "provenance": []
  },
  "kernelspec": {
   "display_name": "Python 3",
   "name": "python3"
  },
  "language_info": {
   "codemirror_mode": {
    "name": "ipython",
    "version": 3
   },
   "file_extension": ".py",
   "mimetype": "text/x-python",
   "name": "python",
   "nbconvert_exporter": "python",
   "pygments_lexer": "ipython3",
   "version": "3.9.0"
  }
 },
 "nbformat": 4,
 "nbformat_minor": 0
}
